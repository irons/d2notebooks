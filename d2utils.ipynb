{
 "cells": [
  {
   "cell_type": "markdown",
   "metadata": {},
   "source": [
    "## Utilities"
   ]
  },
  {
   "cell_type": "code",
   "execution_count": 3,
   "metadata": {},
   "outputs": [
    {
     "name": "stdout",
     "output_type": "stream",
     "text": [
      "client_id length: 5\n",
      "api_key length: 32\n"
     ]
    }
   ],
   "source": [
    "from src import config\n",
    "\n",
    "client_id, api_key = config.load_config()\n",
    "\n",
    "print(f\"client_id length: {len(client_id)}\")\n",
    "print(f\"api_key length: {len(api_key)}\")"
   ]
  },
  {
   "cell_type": "code",
   "execution_count": 5,
   "metadata": {},
   "outputs": [
    {
     "name": "stdout",
     "output_type": "stream",
     "text": [
      "We're using a self-signed certificate to run an HTTPS server on localhost, you'll need to accept the certificate in your browser.\n",
      "Please go to the following URL and authorize the app: https://www.bungie.net/en/oauth/authorize?client_id=22927&response_type=code&state=z4-2YjqB5ZVFIoW86fVZRPNFTHDNJdmzbcfhgWbdl3X-aONHFJcP9VvnXDjJwQ_CeHjY0azu35wsXZ0GvY_B3hZWgg-km6TyplqxHDV3LCwKjmOjXIaDifA5NtO_BdavBZG_PWZelqoxfaEKucZswGSruyoB0hyIclBZdjXQUs8=&redirect_uri=https://localhost:7777/\n",
      "Stopping HTTPS server\n",
      "Access token successfully acquired at: 2024-05-25T19:34:20.778640 and expires at: 2024-05-25T20:34:20.778473\n"
     ]
    }
   ],
   "source": [
    "from src.bungie_oauth import BungieAuth\n",
    "import datetime\n",
    "\n",
    "# perform oauth login to get the access token used in later requests.  It is good for 1 hour\n",
    "print(\n",
    "    \"We're using a self-signed certificate to run an HTTPS server on localhost, you'll need to accept the certificate in your browser.\"\n",
    ")\n",
    "access_token = BungieAuth(client_id).refresh_oauth_token()\n",
    "\n",
    "# token is good for 1 hour, print out the time that it expires\n",
    "expiration_time = datetime.datetime.now() + datetime.timedelta(hours=1)\n",
    "print(\n",
    "    f\"Access token successfully acquired at: {datetime.datetime.now().isoformat()} and expires at: {expiration_time.isoformat()}\"\n",
    ")"
   ]
  },
  {
   "cell_type": "code",
   "execution_count": 6,
   "metadata": {},
   "outputs": [
    {
     "name": "stdout",
     "output_type": "stream",
     "text": [
      "Downloading DestinyNodeStepSummaryDefinition from /common/destiny2_content/json/en/DestinyNodeStepSummaryDefinition-b480d136-fa1d-4c23-b04f-3b978d639fda.json\n",
      "Downloading DestinyArtDyeChannelDefinition from /common/destiny2_content/json/en/DestinyArtDyeChannelDefinition-b480d136-fa1d-4c23-b04f-3b978d639fda.json\n",
      "Downloading DestinyArtDyeReferenceDefinition from /common/destiny2_content/json/en/DestinyArtDyeReferenceDefinition-b480d136-fa1d-4c23-b04f-3b978d639fda.json\n",
      "Downloading DestinyPlaceDefinition from /common/destiny2_content/json/en/DestinyPlaceDefinition-b480d136-fa1d-4c23-b04f-3b978d639fda.json\n",
      "Downloading DestinyActivityDefinition from /common/destiny2_content/json/en/DestinyActivityDefinition-b480d136-fa1d-4c23-b04f-3b978d639fda.json\n",
      "Downloading DestinyActivityTypeDefinition from /common/destiny2_content/json/en/DestinyActivityTypeDefinition-b480d136-fa1d-4c23-b04f-3b978d639fda.json\n",
      "Downloading DestinyClassDefinition from /common/destiny2_content/json/en/DestinyClassDefinition-b480d136-fa1d-4c23-b04f-3b978d639fda.json\n",
      "Downloading DestinyGenderDefinition from /common/destiny2_content/json/en/DestinyGenderDefinition-b480d136-fa1d-4c23-b04f-3b978d639fda.json\n",
      "Downloading DestinyInventoryBucketDefinition from /common/destiny2_content/json/en/DestinyInventoryBucketDefinition-b480d136-fa1d-4c23-b04f-3b978d639fda.json\n",
      "Downloading DestinyRaceDefinition from /common/destiny2_content/json/en/DestinyRaceDefinition-b480d136-fa1d-4c23-b04f-3b978d639fda.json\n",
      "Downloading DestinyTalentGridDefinition from /common/destiny2_content/json/en/DestinyTalentGridDefinition-b480d136-fa1d-4c23-b04f-3b978d639fda.json\n",
      "Downloading DestinyUnlockDefinition from /common/destiny2_content/json/en/DestinyUnlockDefinition-b480d136-fa1d-4c23-b04f-3b978d639fda.json\n",
      "Downloading DestinyStatGroupDefinition from /common/destiny2_content/json/en/DestinyStatGroupDefinition-b480d136-fa1d-4c23-b04f-3b978d639fda.json\n",
      "Downloading DestinyProgressionMappingDefinition from /common/destiny2_content/json/en/DestinyProgressionMappingDefinition-b480d136-fa1d-4c23-b04f-3b978d639fda.json\n",
      "Downloading DestinyFactionDefinition from /common/destiny2_content/json/en/DestinyFactionDefinition-b480d136-fa1d-4c23-b04f-3b978d639fda.json\n",
      "Downloading DestinyVendorGroupDefinition from /common/destiny2_content/json/en/DestinyVendorGroupDefinition-b480d136-fa1d-4c23-b04f-3b978d639fda.json\n",
      "Downloading DestinyRewardSourceDefinition from /common/destiny2_content/json/en/DestinyRewardSourceDefinition-b480d136-fa1d-4c23-b04f-3b978d639fda.json\n",
      "Downloading DestinyUnlockValueDefinition from /common/destiny2_content/json/en/DestinyUnlockValueDefinition-b480d136-fa1d-4c23-b04f-3b978d639fda.json\n",
      "Downloading DestinyRewardMappingDefinition from /common/destiny2_content/json/en/DestinyRewardMappingDefinition-b480d136-fa1d-4c23-b04f-3b978d639fda.json\n",
      "Downloading DestinyRewardSheetDefinition from /common/destiny2_content/json/en/DestinyRewardSheetDefinition-b480d136-fa1d-4c23-b04f-3b978d639fda.json\n",
      "Downloading DestinyItemCategoryDefinition from /common/destiny2_content/json/en/DestinyItemCategoryDefinition-b480d136-fa1d-4c23-b04f-3b978d639fda.json\n",
      "Downloading DestinyDamageTypeDefinition from /common/destiny2_content/json/en/DestinyDamageTypeDefinition-b480d136-fa1d-4c23-b04f-3b978d639fda.json\n",
      "Downloading DestinyActivityModeDefinition from /common/destiny2_content/json/en/DestinyActivityModeDefinition-b480d136-fa1d-4c23-b04f-3b978d639fda.json\n",
      "Downloading DestinyMedalTierDefinition from /common/destiny2_content/json/en/DestinyMedalTierDefinition-b480d136-fa1d-4c23-b04f-3b978d639fda.json\n",
      "Downloading DestinyAchievementDefinition from /common/destiny2_content/json/en/DestinyAchievementDefinition-b480d136-fa1d-4c23-b04f-3b978d639fda.json\n",
      "Downloading DestinyActivityGraphDefinition from /common/destiny2_content/json/en/DestinyActivityGraphDefinition-b480d136-fa1d-4c23-b04f-3b978d639fda.json\n",
      "Downloading DestinyActivityInteractableDefinition from /common/destiny2_content/json/en/DestinyActivityInteractableDefinition-b480d136-fa1d-4c23-b04f-3b978d639fda.json\n",
      "Downloading DestinyBondDefinition from /common/destiny2_content/json/en/DestinyBondDefinition-b480d136-fa1d-4c23-b04f-3b978d639fda.json\n",
      "Downloading DestinyCharacterCustomizationCategoryDefinition from /common/destiny2_content/json/en/DestinyCharacterCustomizationCategoryDefinition-b480d136-fa1d-4c23-b04f-3b978d639fda.json\n",
      "Downloading DestinyCharacterCustomizationOptionDefinition from /common/destiny2_content/json/en/DestinyCharacterCustomizationOptionDefinition-b480d136-fa1d-4c23-b04f-3b978d639fda.json\n",
      "Downloading DestinyCollectibleDefinition from /common/destiny2_content/json/en/DestinyCollectibleDefinition-b480d136-fa1d-4c23-b04f-3b978d639fda.json\n",
      "Downloading DestinyDestinationDefinition from /common/destiny2_content/json/en/DestinyDestinationDefinition-b480d136-fa1d-4c23-b04f-3b978d639fda.json\n",
      "Downloading DestinyEntitlementOfferDefinition from /common/destiny2_content/json/en/DestinyEntitlementOfferDefinition-b480d136-fa1d-4c23-b04f-3b978d639fda.json\n",
      "Downloading DestinyEquipmentSlotDefinition from /common/destiny2_content/json/en/DestinyEquipmentSlotDefinition-b480d136-fa1d-4c23-b04f-3b978d639fda.json\n",
      "Downloading DestinyEventCardDefinition from /common/destiny2_content/json/en/DestinyEventCardDefinition-b480d136-fa1d-4c23-b04f-3b978d639fda.json\n",
      "Downloading DestinyFireteamFinderActivityGraphDefinition from /common/destiny2_content/json/en/DestinyFireteamFinderActivityGraphDefinition-b480d136-fa1d-4c23-b04f-3b978d639fda.json\n",
      "Downloading DestinyFireteamFinderActivitySetDefinition from /common/destiny2_content/json/en/DestinyFireteamFinderActivitySetDefinition-b480d136-fa1d-4c23-b04f-3b978d639fda.json\n",
      "Downloading DestinyFireteamFinderLabelDefinition from /common/destiny2_content/json/en/DestinyFireteamFinderLabelDefinition-b480d136-fa1d-4c23-b04f-3b978d639fda.json\n",
      "Downloading DestinyFireteamFinderLabelGroupDefinition from /common/destiny2_content/json/en/DestinyFireteamFinderLabelGroupDefinition-b480d136-fa1d-4c23-b04f-3b978d639fda.json\n",
      "Downloading DestinyFireteamFinderOptionDefinition from /common/destiny2_content/json/en/DestinyFireteamFinderOptionDefinition-b480d136-fa1d-4c23-b04f-3b978d639fda.json\n",
      "Downloading DestinyFireteamFinderOptionGroupDefinition from /common/destiny2_content/json/en/DestinyFireteamFinderOptionGroupDefinition-b480d136-fa1d-4c23-b04f-3b978d639fda.json\n",
      "Downloading DestinyStatDefinition from /common/destiny2_content/json/en/DestinyStatDefinition-b480d136-fa1d-4c23-b04f-3b978d639fda.json\n",
      "Downloading DestinyInventoryItemDefinition from /common/destiny2_content/json/en/DestinyInventoryItemDefinition-b480d136-fa1d-4c23-b04f-3b978d639fda.json\n",
      "Downloading DestinyInventoryItemLiteDefinition from /common/destiny2_content/json/en/DestinyInventoryItemLiteDefinition-b480d136-fa1d-4c23-b04f-3b978d639fda.json\n",
      "Downloading DestinyItemTierTypeDefinition from /common/destiny2_content/json/en/DestinyItemTierTypeDefinition-b480d136-fa1d-4c23-b04f-3b978d639fda.json\n",
      "Downloading DestinyLoadoutColorDefinition from /common/destiny2_content/json/en/DestinyLoadoutColorDefinition-b480d136-fa1d-4c23-b04f-3b978d639fda.json\n",
      "Downloading DestinyLoadoutIconDefinition from /common/destiny2_content/json/en/DestinyLoadoutIconDefinition-b480d136-fa1d-4c23-b04f-3b978d639fda.json\n",
      "Downloading DestinyLoadoutNameDefinition from /common/destiny2_content/json/en/DestinyLoadoutNameDefinition-b480d136-fa1d-4c23-b04f-3b978d639fda.json\n",
      "Downloading DestinyLocationDefinition from /common/destiny2_content/json/en/DestinyLocationDefinition-b480d136-fa1d-4c23-b04f-3b978d639fda.json\n",
      "Downloading DestinyLoreDefinition from /common/destiny2_content/json/en/DestinyLoreDefinition-b480d136-fa1d-4c23-b04f-3b978d639fda.json\n",
      "Downloading DestinyMaterialRequirementSetDefinition from /common/destiny2_content/json/en/DestinyMaterialRequirementSetDefinition-b480d136-fa1d-4c23-b04f-3b978d639fda.json\n",
      "Downloading DestinyMetricDefinition from /common/destiny2_content/json/en/DestinyMetricDefinition-b480d136-fa1d-4c23-b04f-3b978d639fda.json\n",
      "Downloading DestinyObjectiveDefinition from /common/destiny2_content/json/en/DestinyObjectiveDefinition-b480d136-fa1d-4c23-b04f-3b978d639fda.json\n",
      "Downloading DestinySandboxPerkDefinition from /common/destiny2_content/json/en/DestinySandboxPerkDefinition-b480d136-fa1d-4c23-b04f-3b978d639fda.json\n",
      "Downloading DestinyPlatformBucketMappingDefinition from /common/destiny2_content/json/en/DestinyPlatformBucketMappingDefinition-b480d136-fa1d-4c23-b04f-3b978d639fda.json\n",
      "Downloading DestinyPlugSetDefinition from /common/destiny2_content/json/en/DestinyPlugSetDefinition-b480d136-fa1d-4c23-b04f-3b978d639fda.json\n",
      "Downloading DestinyPowerCapDefinition from /common/destiny2_content/json/en/DestinyPowerCapDefinition-b480d136-fa1d-4c23-b04f-3b978d639fda.json\n",
      "Downloading DestinyPresentationNodeDefinition from /common/destiny2_content/json/en/DestinyPresentationNodeDefinition-b480d136-fa1d-4c23-b04f-3b978d639fda.json\n",
      "Downloading DestinyProgressionDefinition from /common/destiny2_content/json/en/DestinyProgressionDefinition-b480d136-fa1d-4c23-b04f-3b978d639fda.json\n",
      "Downloading DestinyProgressionLevelRequirementDefinition from /common/destiny2_content/json/en/DestinyProgressionLevelRequirementDefinition-b480d136-fa1d-4c23-b04f-3b978d639fda.json\n",
      "Downloading DestinyRecordDefinition from /common/destiny2_content/json/en/DestinyRecordDefinition-b480d136-fa1d-4c23-b04f-3b978d639fda.json\n",
      "Downloading DestinyRewardAdjusterPointerDefinition from /common/destiny2_content/json/en/DestinyRewardAdjusterPointerDefinition-b480d136-fa1d-4c23-b04f-3b978d639fda.json\n",
      "Downloading DestinyRewardAdjusterProgressionMapDefinition from /common/destiny2_content/json/en/DestinyRewardAdjusterProgressionMapDefinition-b480d136-fa1d-4c23-b04f-3b978d639fda.json\n",
      "Downloading DestinyRewardItemListDefinition from /common/destiny2_content/json/en/DestinyRewardItemListDefinition-b480d136-fa1d-4c23-b04f-3b978d639fda.json\n",
      "Downloading DestinySackRewardItemListDefinition from /common/destiny2_content/json/en/DestinySackRewardItemListDefinition-b480d136-fa1d-4c23-b04f-3b978d639fda.json\n",
      "Downloading DestinySandboxPatternDefinition from /common/destiny2_content/json/en/DestinySandboxPatternDefinition-b480d136-fa1d-4c23-b04f-3b978d639fda.json\n",
      "Downloading DestinySeasonDefinition from /common/destiny2_content/json/en/DestinySeasonDefinition-b480d136-fa1d-4c23-b04f-3b978d639fda.json\n",
      "Downloading DestinySeasonPassDefinition from /common/destiny2_content/json/en/DestinySeasonPassDefinition-b480d136-fa1d-4c23-b04f-3b978d639fda.json\n",
      "Downloading DestinySocialCommendationDefinition from /common/destiny2_content/json/en/DestinySocialCommendationDefinition-b480d136-fa1d-4c23-b04f-3b978d639fda.json\n",
      "Downloading DestinySocketCategoryDefinition from /common/destiny2_content/json/en/DestinySocketCategoryDefinition-b480d136-fa1d-4c23-b04f-3b978d639fda.json\n",
      "Downloading DestinySocketTypeDefinition from /common/destiny2_content/json/en/DestinySocketTypeDefinition-b480d136-fa1d-4c23-b04f-3b978d639fda.json\n",
      "Downloading DestinyTraitDefinition from /common/destiny2_content/json/en/DestinyTraitDefinition-b480d136-fa1d-4c23-b04f-3b978d639fda.json\n",
      "Downloading DestinyUnlockCountMappingDefinition from /common/destiny2_content/json/en/DestinyUnlockCountMappingDefinition-b480d136-fa1d-4c23-b04f-3b978d639fda.json\n",
      "Downloading DestinyUnlockEventDefinition from /common/destiny2_content/json/en/DestinyUnlockEventDefinition-b480d136-fa1d-4c23-b04f-3b978d639fda.json\n",
      "Downloading DestinyUnlockExpressionMappingDefinition from /common/destiny2_content/json/en/DestinyUnlockExpressionMappingDefinition-b480d136-fa1d-4c23-b04f-3b978d639fda.json\n",
      "Downloading DestinyVendorDefinition from /common/destiny2_content/json/en/DestinyVendorDefinition-b480d136-fa1d-4c23-b04f-3b978d639fda.json\n",
      "Downloading DestinyMilestoneDefinition from /common/destiny2_content/json/en/DestinyMilestoneDefinition-b480d136-fa1d-4c23-b04f-3b978d639fda.json\n",
      "Downloading DestinyActivityModifierDefinition from /common/destiny2_content/json/en/DestinyActivityModifierDefinition-b480d136-fa1d-4c23-b04f-3b978d639fda.json\n",
      "Downloading DestinyReportReasonCategoryDefinition from /common/destiny2_content/json/en/DestinyReportReasonCategoryDefinition-b480d136-fa1d-4c23-b04f-3b978d639fda.json\n",
      "Downloading DestinyArtifactDefinition from /common/destiny2_content/json/en/DestinyArtifactDefinition-b480d136-fa1d-4c23-b04f-3b978d639fda.json\n",
      "Downloading DestinyBreakerTypeDefinition from /common/destiny2_content/json/en/DestinyBreakerTypeDefinition-b480d136-fa1d-4c23-b04f-3b978d639fda.json\n",
      "Downloading DestinyChecklistDefinition from /common/destiny2_content/json/en/DestinyChecklistDefinition-b480d136-fa1d-4c23-b04f-3b978d639fda.json\n",
      "Downloading DestinyEnergyTypeDefinition from /common/destiny2_content/json/en/DestinyEnergyTypeDefinition-b480d136-fa1d-4c23-b04f-3b978d639fda.json\n",
      "Downloading DestinySocialCommendationNodeDefinition from /common/destiny2_content/json/en/DestinySocialCommendationNodeDefinition-b480d136-fa1d-4c23-b04f-3b978d639fda.json\n",
      "Downloading DestinyGuardianRankDefinition from /common/destiny2_content/json/en/DestinyGuardianRankDefinition-b480d136-fa1d-4c23-b04f-3b978d639fda.json\n",
      "Downloading DestinyGuardianRankConstantsDefinition from /common/destiny2_content/json/en/DestinyGuardianRankConstantsDefinition-b480d136-fa1d-4c23-b04f-3b978d639fda.json\n",
      "Downloading DestinyLoadoutConstantsDefinition from /common/destiny2_content/json/en/DestinyLoadoutConstantsDefinition-b480d136-fa1d-4c23-b04f-3b978d639fda.json\n",
      "Downloading DestinyFireteamFinderConstantsDefinition from /common/destiny2_content/json/en/DestinyFireteamFinderConstantsDefinition-b480d136-fa1d-4c23-b04f-3b978d639fda.json\n"
     ]
    }
   ],
   "source": [
    "# it's nice to have all of the manifest files downloaded locally into the data directory for reference\n",
    "import os\n",
    "import requests\n",
    "from src.bungie_api import BungieApi\n",
    "\n",
    "os.makedirs(\"data\", exist_ok=True)\n",
    "\n",
    "api = BungieApi(api_key, access_token)\n",
    "manifest = api.get_manifest()\n",
    "\n",
    "for key, value in manifest[\"Response\"][\"jsonWorldComponentContentPaths\"][\"en\"].items():\n",
    "    print(f\"Downloading {key} from {value}\")\n",
    "    response = requests.get(\n",
    "        f\"https://www.bungie.net{value}\",\n",
    "        headers={\n",
    "            \"X-API-Key\": api_key,\n",
    "        },\n",
    "    )\n",
    "    with open(f\"data/{key}.json\", \"w\") as f:\n",
    "        f.write(response.text)"
   ]
  },
  {
   "cell_type": "markdown",
   "metadata": {},
   "source": [
    "### Ignore armor tagged as `infuse` or `junk` in DIM\n",
    "\n",
    "If you [export your vault in DIM as a CSV](https://github.com/DestinyItemManager/DIM/wiki/Spreadsheets#), this can parse it and build a list of armor that the `d2armor` notebook should exclude from analysis. Adding \"#ignore\" to a DIM item's Notes field has the same effect — this can be used to exclude things like raid class items, which aren't junk, but are irrelevant to outfit calculations. "
   ]
  },
  {
   "cell_type": "code",
   "execution_count": 2,
   "metadata": {},
   "outputs": [
    {
     "name": "stdout",
     "output_type": "stream",
     "text": [
      "Could not find /Users/tednaleid/Downloads/destinyArmor.csv\n"
     ]
    }
   ],
   "source": [
    "%run src/process-dim-armor.py\n"
   ]
  }
 ],
 "metadata": {
  "kernelspec": {
   "display_name": "d2notebooks-3.12.2",
   "language": "python",
   "name": "python3"
  },
  "language_info": {
   "codemirror_mode": {
    "name": "ipython",
    "version": 3
   },
   "file_extension": ".py",
   "mimetype": "text/x-python",
   "name": "python",
   "nbconvert_exporter": "python",
   "pygments_lexer": "ipython3",
   "version": "3.12.2"
  }
 },
 "nbformat": 4,
 "nbformat_minor": 2
}
